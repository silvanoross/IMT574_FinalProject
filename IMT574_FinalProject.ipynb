{
 "cells": [
  {
   "cell_type": "markdown",
   "metadata": {},
   "source": [
    "# Final Project \n",
    "### Optimizing Inventory by Anticipating Error in Demand Forecast\n",
    "Felix, Jack, Silvano\n"
   ]
  },
  {
   "cell_type": "markdown",
   "metadata": {},
   "source": [
    "### Dataset - Synthetic Store Operations\n",
    "[Kaggle Dataset](https://www.kaggle.com/datasets/anirudhchauhan/retail-store-inventory-forecasting-dataset?resource=download)\n",
    "\n",
    "\n",
    "1. Describe the dataset you chose. Why did you choose it? What features does it include? What year is it from? How was it collected? What should we know about this dataset as we read your writeup? (8pts)\n",
    "\n",
    "    **We are interested in trying to optimize supply chain operations through creating ideal prediction points to order products that keep stores in overstocked rather than understocked, potentially hurting sales.**\n",
    "\n",
    "    **We chose this dataset because we were interested in the operations side of Data Science and this dataset is robust.**\n",
    "\n",
    "    **This is a time-series dataset that looks at the following by the day:**\n",
    "    - Store ID\n",
    "    - Region\n",
    "    - Product ID\n",
    "    - Product Type\n",
    "    - Inventory Level\n",
    "    - Units Sold\n",
    "    - Demand Forecast \n",
    "    - Units Ordered\n",
    "    - Price of Goods\n",
    "    - Discount Amount\n",
    "    - Weather Conditions\n",
    "    - Holiday/Promotions (boolean)\n",
    "    - Competitor Pricing\n",
    "    - Seasonality\n",
    "   \n",
    "    **Per the dataset's Kaggle home page the dataset was posted ~4 months ago in 2025. It was sythetically generated so we are not working with real-world data. This gives us freedom to use this data without much restriction.**\n",
    "\n",
    "    **There are also some inconsisitencies we encountered [elaborate], which caused us to trim back the data more than we had initially wanted to.**\n",
    "    "
   ]
  },
  {
   "cell_type": "markdown",
   "metadata": {},
   "source": [
    "## Defining a Research Question\n",
    "\n",
    "2. Define a research question. What are you trying to predict? Describe what you’re trying to accomplish (it will differ between Supervised and Unsupervised learning). (4pts)\n",
    "\n",
    "- **How can we optimize inventory levels for Store S001 in the East region by using the best supervised model out of ARIMA, Random Forest Ensemble method and XG Boost Regression?**\n",
    "\n",
    "**Initially, we wanted to simply predict inventory level and figure out the best model to forecast future levels so we could decide prediction points to strategically order items. We quickly realized there is already a \"Demand Forecast\" that this data comes with and pivoted to trying to predict the error of the demand vs sales. This would let us know if the dataset's built in predictions could be optimized.**\n",
    "\n",
    "**This way, if we have predictions for the future and what kind of error they may be, we can adjust ordering depending on over or under predictions. Because we place an order everyday and potentially the next day**\n"
   ]
  },
  {
   "cell_type": "code",
   "execution_count": null,
   "metadata": {},
   "outputs": [],
   "source": []
  },
  {
   "cell_type": "code",
   "execution_count": null,
   "metadata": {},
   "outputs": [],
   "source": []
  },
  {
   "cell_type": "markdown",
   "metadata": {},
   "source": []
  }
 ],
 "metadata": {
  "kernelspec": {
   "display_name": "dev",
   "language": "python",
   "name": "python3"
  },
  "language_info": {
   "name": "python",
   "version": "3.12.2"
  }
 },
 "nbformat": 4,
 "nbformat_minor": 2
}
